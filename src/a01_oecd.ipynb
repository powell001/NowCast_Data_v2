{
 "cells": [
  {
   "cell_type": "code",
   "execution_count": 1,
   "metadata": {
    "vscode": {
     "languageId": "r"
    }
   },
   "outputs": [
    {
     "name": "stderr",
     "output_type": "stream",
     "text": [
      "\n",
      "Attaching package: 'tidyr'\n",
      "\n",
      "\n",
      "The following object is masked from 'package:reshape2':\n",
      "\n",
      "    smiths\n",
      "\n",
      "\n"
     ]
    }
   ],
   "source": [
    "library(reshape2)\n",
    "library(rsdmx)\n",
    "library(tidyr)"
   ]
  },
  {
   "cell_type": "code",
   "execution_count": 2,
   "metadata": {
    "vscode": {
     "languageId": "r"
    }
   },
   "outputs": [
    {
     "data": {
      "text/html": [
       "<table class=\"dataframe\">\n",
       "<caption>A data.frame: 6 × 4</caption>\n",
       "<thead>\n",
       "\t<tr><th></th><th scope=col>TIME_PERIOD</th><th scope=col>REF_AREA</th><th scope=col>MEASURE</th><th scope=col>obsValue</th></tr>\n",
       "\t<tr><th></th><th scope=col>&lt;chr&gt;</th><th scope=col>&lt;chr&gt;</th><th scope=col>&lt;chr&gt;</th><th scope=col>&lt;dbl&gt;</th></tr>\n",
       "</thead>\n",
       "<tbody>\n",
       "\t<tr><th scope=row>1</th><td>2009-06</td><td>NLD</td><td>BCICP</td><td> 97.37341</td></tr>\n",
       "\t<tr><th scope=row>2</th><td>2009-07</td><td>NLD</td><td>BCICP</td><td> 97.75673</td></tr>\n",
       "\t<tr><th scope=row>3</th><td>2013-03</td><td>NLD</td><td>BCICP</td><td> 99.46883</td></tr>\n",
       "\t<tr><th scope=row>4</th><td>2017-04</td><td>NLD</td><td>CCICP</td><td>101.60080</td></tr>\n",
       "\t<tr><th scope=row>5</th><td>2017-05</td><td>NLD</td><td>CCICP</td><td>101.50120</td></tr>\n",
       "\t<tr><th scope=row>6</th><td>2012-12</td><td>NLD</td><td>BCICP</td><td> 99.24467</td></tr>\n",
       "</tbody>\n",
       "</table>\n"
      ],
      "text/latex": [
       "A data.frame: 6 × 4\n",
       "\\begin{tabular}{r|llll}\n",
       "  & TIME\\_PERIOD & REF\\_AREA & MEASURE & obsValue\\\\\n",
       "  & <chr> & <chr> & <chr> & <dbl>\\\\\n",
       "\\hline\n",
       "\t1 & 2009-06 & NLD & BCICP &  97.37341\\\\\n",
       "\t2 & 2009-07 & NLD & BCICP &  97.75673\\\\\n",
       "\t3 & 2013-03 & NLD & BCICP &  99.46883\\\\\n",
       "\t4 & 2017-04 & NLD & CCICP & 101.60080\\\\\n",
       "\t5 & 2017-05 & NLD & CCICP & 101.50120\\\\\n",
       "\t6 & 2012-12 & NLD & BCICP &  99.24467\\\\\n",
       "\\end{tabular}\n"
      ],
      "text/markdown": [
       "\n",
       "A data.frame: 6 × 4\n",
       "\n",
       "| <!--/--> | TIME_PERIOD &lt;chr&gt; | REF_AREA &lt;chr&gt; | MEASURE &lt;chr&gt; | obsValue &lt;dbl&gt; |\n",
       "|---|---|---|---|---|\n",
       "| 1 | 2009-06 | NLD | BCICP |  97.37341 |\n",
       "| 2 | 2009-07 | NLD | BCICP |  97.75673 |\n",
       "| 3 | 2013-03 | NLD | BCICP |  99.46883 |\n",
       "| 4 | 2017-04 | NLD | CCICP | 101.60080 |\n",
       "| 5 | 2017-05 | NLD | CCICP | 101.50120 |\n",
       "| 6 | 2012-12 | NLD | BCICP |  99.24467 |\n",
       "\n"
      ],
      "text/plain": [
       "  TIME_PERIOD REF_AREA MEASURE obsValue \n",
       "1 2009-06     NLD      BCICP    97.37341\n",
       "2 2009-07     NLD      BCICP    97.75673\n",
       "3 2013-03     NLD      BCICP    99.46883\n",
       "4 2017-04     NLD      CCICP   101.60080\n",
       "5 2017-05     NLD      CCICP   101.50120\n",
       "6 2012-12     NLD      BCICP    99.24467"
      ]
     },
     "metadata": {},
     "output_type": "display_data"
    },
    {
     "data": {
      "text/html": [
       "<table class=\"dataframe\">\n",
       "<caption>A tibble: 6 × 3</caption>\n",
       "<thead>\n",
       "\t<tr><th scope=col>TIME_PERIOD</th><th scope=col>BCICP_NLD</th><th scope=col>CCICP_NLD</th></tr>\n",
       "\t<tr><th scope=col>&lt;date&gt;</th><th scope=col>&lt;dbl&gt;</th><th scope=col>&lt;dbl&gt;</th></tr>\n",
       "</thead>\n",
       "<tbody>\n",
       "\t<tr><td>2024-05-01</td><td>100.2616</td><td>99.35704</td></tr>\n",
       "\t<tr><td>2024-06-01</td><td>100.3004</td><td>99.36520</td></tr>\n",
       "\t<tr><td>2024-07-01</td><td>100.2987</td><td>99.45082</td></tr>\n",
       "\t<tr><td>2024-08-01</td><td>100.2908</td><td>99.56591</td></tr>\n",
       "\t<tr><td>2024-09-01</td><td>100.2278</td><td>99.64722</td></tr>\n",
       "\t<tr><td>2024-10-01</td><td>100.1117</td><td>99.57467</td></tr>\n",
       "</tbody>\n",
       "</table>\n"
      ],
      "text/latex": [
       "A tibble: 6 × 3\n",
       "\\begin{tabular}{lll}\n",
       " TIME\\_PERIOD & BCICP\\_NLD & CCICP\\_NLD\\\\\n",
       " <date> & <dbl> & <dbl>\\\\\n",
       "\\hline\n",
       "\t 2024-05-01 & 100.2616 & 99.35704\\\\\n",
       "\t 2024-06-01 & 100.3004 & 99.36520\\\\\n",
       "\t 2024-07-01 & 100.2987 & 99.45082\\\\\n",
       "\t 2024-08-01 & 100.2908 & 99.56591\\\\\n",
       "\t 2024-09-01 & 100.2278 & 99.64722\\\\\n",
       "\t 2024-10-01 & 100.1117 & 99.57467\\\\\n",
       "\\end{tabular}\n"
      ],
      "text/markdown": [
       "\n",
       "A tibble: 6 × 3\n",
       "\n",
       "| TIME_PERIOD &lt;date&gt; | BCICP_NLD &lt;dbl&gt; | CCICP_NLD &lt;dbl&gt; |\n",
       "|---|---|---|\n",
       "| 2024-05-01 | 100.2616 | 99.35704 |\n",
       "| 2024-06-01 | 100.3004 | 99.36520 |\n",
       "| 2024-07-01 | 100.2987 | 99.45082 |\n",
       "| 2024-08-01 | 100.2908 | 99.56591 |\n",
       "| 2024-09-01 | 100.2278 | 99.64722 |\n",
       "| 2024-10-01 | 100.1117 | 99.57467 |\n",
       "\n"
      ],
      "text/plain": [
       "  TIME_PERIOD BCICP_NLD CCICP_NLD\n",
       "1 2024-05-01  100.2616  99.35704 \n",
       "2 2024-06-01  100.3004  99.36520 \n",
       "3 2024-07-01  100.2987  99.45082 \n",
       "4 2024-08-01  100.2908  99.56591 \n",
       "5 2024-09-01  100.2278  99.64722 \n",
       "6 2024-10-01  100.1117  99.57467 "
      ]
     },
     "metadata": {},
     "output_type": "display_data"
    },
    {
     "data": {
      "image/png": "[encoded data removed]",
      "text/plain": [
       "plot without title"
      ]
     },
     "metadata": {
      "image/png": {
       "height": 420,
       "width": 420
      }
     },
     "output_type": "display_data"
    }
   ],
   "source": [
    "myUrl <- \"https://sdmx.oecd.org/public/rest/data/OECD.SDD.STES,DSD_STES@DF_CLI,4.1/NLD.M.LOCOS3+LOCOPC+CCICP+BCICP......H?startPeriod=1995-01&dimensionAtObservation=AllDimensions\"\n",
    "\n",
    "dataset <- readSDMX(myUrl)\n",
    "stats <- as.data.frame(dataset)\n",
    "\n",
    "\n",
    "#write.csv(stats,\"output/LeadingIndicators_NLD_m0.csv\", row.names = FALSE)\n",
    "\n",
    "#stats[order(stats$TIME_PERIOD),]\n",
    "nld1 <- stats[c(\"TIME_PERIOD\", \"REF_AREA\", \"MEASURE\",\"obsValue\")]\n",
    "\n",
    "head(nld1)\n",
    "\n",
    "nld2 <- pivot_wider(nld1, names_from=MEASURE, values_from=obsValue)\n",
    "\n",
    "nld2$TIME_PERIOD <- as.Date(paste0(nld2$TIME_PERIOD, \"-01\"), format = \"%Y-%m-%d\")\n",
    "\n",
    "nld3 <- nld2[order(nld2$TIME_PERIOD),]\n",
    "nld3$REF_AREA <- NULL\n",
    "\n",
    "names(nld3)[c(2,3)] <- paste0(names(nld3)[c(2,3)], \"_NLD\")\n",
    "tail(nld3)\n",
    "plot(ts(nld3[,c(2,3)]))"
   ]
  },
  {
   "cell_type": "code",
   "execution_count": 3,
   "metadata": {
    "vscode": {
     "languageId": "r"
    }
   },
   "outputs": [
    {
     "data": {
      "text/html": [
       "<table class=\"dataframe\">\n",
       "<caption>A tibble: 6 × 3</caption>\n",
       "<thead>\n",
       "\t<tr><th scope=col>TIME_PERIOD</th><th scope=col>CCICP_DEU</th><th scope=col>BCICP_DEU</th></tr>\n",
       "\t<tr><th scope=col>&lt;date&gt;</th><th scope=col>&lt;dbl&gt;</th><th scope=col>&lt;dbl&gt;</th></tr>\n",
       "</thead>\n",
       "<tbody>\n",
       "\t<tr><td>2024-05-01</td><td>99.67835</td><td>98.79533</td></tr>\n",
       "\t<tr><td>2024-06-01</td><td>99.79649</td><td>98.76119</td></tr>\n",
       "\t<tr><td>2024-07-01</td><td>99.84816</td><td>98.63773</td></tr>\n",
       "\t<tr><td>2024-08-01</td><td>99.75276</td><td>98.45783</td></tr>\n",
       "\t<tr><td>2024-09-01</td><td>99.68155</td><td>98.25905</td></tr>\n",
       "\t<tr><td>2024-10-01</td><td>99.73027</td><td>98.08765</td></tr>\n",
       "</tbody>\n",
       "</table>\n"
      ],
      "text/latex": [
       "A tibble: 6 × 3\n",
       "\\begin{tabular}{lll}\n",
       " TIME\\_PERIOD & CCICP\\_DEU & BCICP\\_DEU\\\\\n",
       " <date> & <dbl> & <dbl>\\\\\n",
       "\\hline\n",
       "\t 2024-05-01 & 99.67835 & 98.79533\\\\\n",
       "\t 2024-06-01 & 99.79649 & 98.76119\\\\\n",
       "\t 2024-07-01 & 99.84816 & 98.63773\\\\\n",
       "\t 2024-08-01 & 99.75276 & 98.45783\\\\\n",
       "\t 2024-09-01 & 99.68155 & 98.25905\\\\\n",
       "\t 2024-10-01 & 99.73027 & 98.08765\\\\\n",
       "\\end{tabular}\n"
      ],
      "text/markdown": [
       "\n",
       "A tibble: 6 × 3\n",
       "\n",
       "| TIME_PERIOD &lt;date&gt; | CCICP_DEU &lt;dbl&gt; | BCICP_DEU &lt;dbl&gt; |\n",
       "|---|---|---|\n",
       "| 2024-05-01 | 99.67835 | 98.79533 |\n",
       "| 2024-06-01 | 99.79649 | 98.76119 |\n",
       "| 2024-07-01 | 99.84816 | 98.63773 |\n",
       "| 2024-08-01 | 99.75276 | 98.45783 |\n",
       "| 2024-09-01 | 99.68155 | 98.25905 |\n",
       "| 2024-10-01 | 99.73027 | 98.08765 |\n",
       "\n"
      ],
      "text/plain": [
       "  TIME_PERIOD CCICP_DEU BCICP_DEU\n",
       "1 2024-05-01  99.67835  98.79533 \n",
       "2 2024-06-01  99.79649  98.76119 \n",
       "3 2024-07-01  99.84816  98.63773 \n",
       "4 2024-08-01  99.75276  98.45783 \n",
       "5 2024-09-01  99.68155  98.25905 \n",
       "6 2024-10-01  99.73027  98.08765 "
      ]
     },
     "metadata": {},
     "output_type": "display_data"
    },
    {
     "data": {
      "image/png": "[encoded data removed]",
      "text/plain": [
       "plot without title"
      ]
     },
     "metadata": {
      "image/png": {
       "height": 420,
       "width": 420
      }
     },
     "output_type": "display_data"
    }
   ],
   "source": [
    "myUrl <- \"https://sdmx.oecd.org/public/rest/data/OECD.SDD.STES,DSD_STES@DF_CLI,4.1/DEU.M.LOCOS3+LOCOPC+CCICP+BCICP......H?startPeriod=1995-01&dimensionAtObservation=AllDimensions\"\n",
    "\n",
    "dataset <- readSDMX(myUrl)\n",
    "stats <- as.data.frame(dataset)\n",
    "#stats[order(stats$TIME_PERIOD),]\n",
    "deu1 <- stats[c(\"TIME_PERIOD\", \"REF_AREA\", \"MEASURE\",\"obsValue\")]\n",
    "\n",
    "deu2 <- pivot_wider(deu1, names_from=MEASURE, values_from=obsValue)\n",
    "deu2$LOCOS3 <- NULL\n",
    "\n",
    "\n",
    "deu2$TIME_PERIOD <- as.Date(paste0(deu2$TIME_PERIOD, \"-01\"), format = \"%Y-%m-%d\")\n",
    "\n",
    "deu3 <- deu2[order(deu2$TIME_PERIOD),]\n",
    "deu3$REF_AREA <- NULL\n",
    "\n",
    "names(deu3)[c(2,3)] <- paste0(names(deu3)[c(2,3)], \"_DEU\")\n",
    "tail(deu3)\n",
    "plot(ts(deu3[,c(2,3)]))"
   ]
  },
  {
   "cell_type": "code",
   "execution_count": 4,
   "metadata": {
    "vscode": {
     "languageId": "r"
    }
   },
   "outputs": [],
   "source": [
    "oecd_confidence <- merge(x = nld3, y = deu3, by = \"TIME_PERIOD\", all = TRUE)\n",
    "write.csv(oecd_confidence, \"../output/OECD_Confidence_mo.csv\", row.names = FALSE)"
   ]
  },
  {
   "cell_type": "code",
   "execution_count": null,
   "metadata": {
    "vscode": {
     "languageId": "r"
    }
   },
   "outputs": [],
   "source": []
  }
 ],
 "metadata": {
  "kernelspec": {
   "display_name": "R",
   "language": "R",
   "name": "ir"
  },
  "language_info": {
   "codemirror_mode": "r",
   "file_extension": ".r",
   "mimetype": "text/x-r-source",
   "name": "R",
   "pygments_lexer": "r",
   "version": "4.4.1"
  }
 },
 "nbformat": 4,
 "nbformat_minor": 2
}
